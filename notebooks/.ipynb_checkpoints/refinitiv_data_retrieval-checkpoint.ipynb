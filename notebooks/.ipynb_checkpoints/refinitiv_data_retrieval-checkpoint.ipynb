{
 "cells": [
  {
   "cell_type": "code",
   "execution_count": 2,
   "metadata": {},
   "outputs": [],
   "source": [
    "# Imports\n",
    "import refinitiv.dataplatform.eikon as ek\n",
    "import pandas as pd\n",
    "import time\n",
    "\n",
    "import matplotlib.pyplot as plt\n",
    "import seaborn as sns\n",
    "import datetime"
   ]
  },
  {
   "cell_type": "markdown",
   "metadata": {},
   "source": [
    "### Introduction"
   ]
  },
  {
   "cell_type": "markdown",
   "metadata": {},
   "source": [
    "This notebook explores company clustering opportunities based on ESG performance, using Thomson Reuters datapoints as a baseline.  \n",
    "We begin by selecting SFDR-related metrics. "
   ]
  },
  {
   "cell_type": "markdown",
   "metadata": {},
   "source": [
    "##### Setup"
   ]
  },
  {
   "cell_type": "code",
   "execution_count": 18,
   "metadata": {},
   "outputs": [],
   "source": [
    "# Utils\n",
    "def get_ric(symbol):\n",
    "    \"\"\"\n",
    "    symbol: the symbol of the company name in your portfolio.  \n",
    "    Find the best possible RIC match for company names.\n",
    "    returns: ric if there is a match, or initial company name. \n",
    "    \"\"\"\n",
    "    possible_rics = ek.json_requests.send_json_request('SymbologySearch',{'symbols': [symbol], 'from': 'ticker', 'to': ['RIC'], 'bestMatchOnly': False})\n",
    "    try:\n",
    "        return possible_rics.json().get(\"mappedSymbols\")[0].get(\"RICs\")[0]\n",
    "    except:\n",
    "        return symbol\n",
    "    \n",
    "def get_isin_from_ric(ric):\n",
    "    \"\"\" \n",
    "    Find the ISIN match for your input RIC.\n",
    "    \"\"\"\n",
    "    isin = ek.get_symbology(ric, from_symbol_type=\"RIC\", to_symbol_type=\"ISIN\")\n",
    "    try:\n",
    "        return isin.ISIN[0]\n",
    "    except:\n",
    "        return \"N/A\"\n",
    "    \n",
    "\n",
    "def get_isin_from_sedol(sedol):\n",
    "    \"\"\" \n",
    "    Find the ISIN match for your input sedol.\n",
    "    \"\"\"\n",
    "    isin = ek.get_symbology(sedol, from_symbol_type=\"SEDOL\", to_symbol_type=\"ISIN\")\n",
    "    try:\n",
    "        return isin.ISIN[0]\n",
    "    except:\n",
    "        return \"N/A\"\n",
    "\n",
    "def prepare_universe(input_path=\"data/\", filename=\"univers.xls\"):\n",
    "    universe = pd.read_excel(input_path+filename)\n",
    "    column_names = universe.iloc[10,:]\n",
    "    universe_df = universe.iloc[11:,:].copy().reset_index().drop(columns=[\"index\"])\n",
    "    universe_df.columns = column_names\n",
    "    universe_df = universe_df.iloc[:-6,1:]\n",
    "    universe_df = universe_df.loc[:,:\"SEDOL\"]\n",
    "    return universe\n",
    "\n",
    "def format_df(esg_df, esg_df_bis, year):\n",
    "    test = esg_df_bis[esg_df_bis.year == year].copy().drop(columns=[\"year\"])\n",
    "    test.columns = [\"Instrument\", \"Environmental Pillar Score Grade \"+str(year), \"Environmental Pillar Score \"+str(year)]\n",
    "    return pd.merge(esg_df, test, how=\"left\", left_on=\"Instrument\", right_on=\"Instrument\")\n",
    "\n",
    "def get_weighted_average(df, metric):\n",
    "    try:\n",
    "        df.Weight = df.Weight.str.replace(\",\",\".\").astype(float)\n",
    "        df[metric] = df[metric].str.replace(\",\",\".\").astype(float)\n",
    "        return (df[metric]*df.Weight).sum()\n",
    "    except:\n",
    "        return (df[metric]*df.Weight).sum()\n",
    "    \n",
    "def add_isins(universe_df, output_path=\"notebooks/output/\",write_to_csv=False):\n",
    "    \n",
    "    sedols = [str(sedol) for sedol in universe_df.SEDOL]\n",
    "    isins = [get_isin_from_sedol(sedol) for sedol in sedols]\n",
    "    universe_df[\"Instrument\"] = pd.Series(isins)\n",
    "    \n",
    "    if write_to_csv == True:\n",
    "        universe_df.to_csv(output_path+\"universe_df.csv\")\n",
    "    return universe_df"
   ]
  },
  {
   "cell_type": "code",
   "execution_count": 19,
   "metadata": {},
   "outputs": [],
   "source": [
    "app_key = \"213f70312b3740cfa9f65def2171d679808d0131\"#\"467e1d8d1e624dfc834b60e91bba50e474bea063\"\n",
    "ek.set_app_key(app_key)"
   ]
  },
  {
   "cell_type": "markdown",
   "metadata": {},
   "source": [
    "Download the data. We will extract information for our reference universe, based on its ISIN codes.  \n",
    "We will first cluster our data using only ESG performance and the field."
   ]
  },
  {
   "cell_type": "code",
   "execution_count": 20,
   "metadata": {},
   "outputs": [],
   "source": [
    "input_path = \"data/\" #\"../inputs/\"\n",
    "output_path = \"output/\" #output_path = \"notebooks/output/\"\n",
    "filename = \"univers.xls\""
   ]
  },
  {
   "cell_type": "code",
   "execution_count": 108,
   "metadata": {},
   "outputs": [],
   "source": [
    "universe_df = pd.read_csv(output_path+\"universe_df.csv\").drop(columns=[\"Unnamed: 0\"])"
   ]
  },
  {
   "cell_type": "code",
   "execution_count": 109,
   "metadata": {},
   "outputs": [
    {
     "data": {
      "text/html": [
       "<div>\n",
       "<style scoped>\n",
       "    .dataframe tbody tr th:only-of-type {\n",
       "        vertical-align: middle;\n",
       "    }\n",
       "\n",
       "    .dataframe tbody tr th {\n",
       "        vertical-align: top;\n",
       "    }\n",
       "\n",
       "    .dataframe thead th {\n",
       "        text-align: right;\n",
       "    }\n",
       "</style>\n",
       "<table border=\"1\" class=\"dataframe\">\n",
       "  <thead>\n",
       "    <tr style=\"text-align: right;\">\n",
       "      <th></th>\n",
       "      <th>Name</th>\n",
       "      <th>Symbol</th>\n",
       "      <th>Country</th>\n",
       "      <th>Market Capitalization (bil) [USD]</th>\n",
       "      <th>Industry Name - GICS Sub-Industry</th>\n",
       "      <th>SEDOL</th>\n",
       "      <th>ISINS</th>\n",
       "    </tr>\n",
       "  </thead>\n",
       "  <tbody>\n",
       "    <tr>\n",
       "      <th>0</th>\n",
       "      <td>APPLE INC</td>\n",
       "      <td>AAPL</td>\n",
       "      <td>USA</td>\n",
       "      <td>2259.699951</td>\n",
       "      <td>Technology Hardware, Storage &amp; Peripherals</td>\n",
       "      <td>2046251</td>\n",
       "      <td>US0378331005</td>\n",
       "    </tr>\n",
       "    <tr>\n",
       "      <th>1</th>\n",
       "      <td>MICROSOFT CORP</td>\n",
       "      <td>MSFT</td>\n",
       "      <td>USA</td>\n",
       "      <td>1970.640015</td>\n",
       "      <td>Systems Software</td>\n",
       "      <td>2588173</td>\n",
       "      <td>US5949181045</td>\n",
       "    </tr>\n",
       "    <tr>\n",
       "      <th>2</th>\n",
       "      <td>AMAZON.COM INC</td>\n",
       "      <td>AMZN</td>\n",
       "      <td>USA</td>\n",
       "      <td>1680.459961</td>\n",
       "      <td>Internet &amp; Direct Marketing Retail</td>\n",
       "      <td>2000019</td>\n",
       "      <td>US0231351067</td>\n",
       "    </tr>\n",
       "    <tr>\n",
       "      <th>3</th>\n",
       "      <td>ALPHABET INC</td>\n",
       "      <td>GOOGL</td>\n",
       "      <td>USA</td>\n",
       "      <td>1552.959961</td>\n",
       "      <td>Interactive Media &amp; Services</td>\n",
       "      <td>BYVY8G0</td>\n",
       "      <td>US02079K3059</td>\n",
       "    </tr>\n",
       "    <tr>\n",
       "      <th>4</th>\n",
       "      <td>FACEBOOK INC</td>\n",
       "      <td>FB</td>\n",
       "      <td>USA</td>\n",
       "      <td>857.919983</td>\n",
       "      <td>Interactive Media &amp; Services</td>\n",
       "      <td>B7TL820</td>\n",
       "      <td>US30303M1027</td>\n",
       "    </tr>\n",
       "  </tbody>\n",
       "</table>\n",
       "</div>"
      ],
      "text/plain": [
       "             Name Symbol Country  Market Capitalization (bil) [USD]  \\\n",
       "0       APPLE INC   AAPL     USA                        2259.699951   \n",
       "1  MICROSOFT CORP   MSFT     USA                        1970.640015   \n",
       "2  AMAZON.COM INC   AMZN     USA                        1680.459961   \n",
       "3    ALPHABET INC  GOOGL     USA                        1552.959961   \n",
       "4    FACEBOOK INC     FB     USA                         857.919983   \n",
       "\n",
       "            Industry Name - GICS Sub-Industry    SEDOL         ISINS  \n",
       "0  Technology Hardware, Storage & Peripherals  2046251  US0378331005  \n",
       "1                            Systems Software  2588173  US5949181045  \n",
       "2          Internet & Direct Marketing Retail  2000019  US0231351067  \n",
       "3                Interactive Media & Services  BYVY8G0  US02079K3059  \n",
       "4                Interactive Media & Services  B7TL820  US30303M1027  "
      ]
     },
     "execution_count": 109,
     "metadata": {},
     "output_type": "execute_result"
    }
   ],
   "source": [
    "universe_df.head()"
   ]
  },
  {
   "cell_type": "code",
   "execution_count": 110,
   "metadata": {},
   "outputs": [
    {
     "data": {
      "text/html": [
       "<div>\n",
       "<style scoped>\n",
       "    .dataframe tbody tr th:only-of-type {\n",
       "        vertical-align: middle;\n",
       "    }\n",
       "\n",
       "    .dataframe tbody tr th {\n",
       "        vertical-align: top;\n",
       "    }\n",
       "\n",
       "    .dataframe thead th {\n",
       "        text-align: right;\n",
       "    }\n",
       "</style>\n",
       "<table border=\"1\" class=\"dataframe\">\n",
       "  <thead>\n",
       "    <tr style=\"text-align: right;\">\n",
       "      <th></th>\n",
       "      <th>Name</th>\n",
       "      <th>Symbol</th>\n",
       "      <th>Country</th>\n",
       "      <th>Market Capitalization (bil) [USD]</th>\n",
       "      <th>Industry Name - GICS Sub-Industry</th>\n",
       "      <th>SEDOL</th>\n",
       "      <th>ISINS</th>\n",
       "    </tr>\n",
       "  </thead>\n",
       "  <tbody>\n",
       "    <tr>\n",
       "      <th>2901</th>\n",
       "      <td>REVANCE THERAPEUTICS INC</td>\n",
       "      <td>RVNC</td>\n",
       "      <td>USA</td>\n",
       "      <td>2.0</td>\n",
       "      <td>Pharmaceuticals</td>\n",
       "      <td>BJFSR99</td>\n",
       "      <td>US7613301099</td>\n",
       "    </tr>\n",
       "    <tr>\n",
       "      <th>2902</th>\n",
       "      <td>WORKSPACE GROUP PLC</td>\n",
       "      <td>WKP</td>\n",
       "      <td>GBR</td>\n",
       "      <td>2.0</td>\n",
       "      <td>Office REITs</td>\n",
       "      <td>B67G5X0</td>\n",
       "      <td>GB00B67G5X01</td>\n",
       "    </tr>\n",
       "    <tr>\n",
       "      <th>2903</th>\n",
       "      <td>SILK ROAD MEDICAL INC</td>\n",
       "      <td>SILK</td>\n",
       "      <td>USA</td>\n",
       "      <td>2.0</td>\n",
       "      <td>Health Care Supplies</td>\n",
       "      <td>BGHVXJ7</td>\n",
       "      <td>US82710M1009</td>\n",
       "    </tr>\n",
       "    <tr>\n",
       "      <th>2904</th>\n",
       "      <td>CREDITO EMILIANO SPA</td>\n",
       "      <td>EMBI</td>\n",
       "      <td>ITA</td>\n",
       "      <td>2.0</td>\n",
       "      <td>Diversified Banks</td>\n",
       "      <td>7135251</td>\n",
       "      <td>IT0003121677</td>\n",
       "    </tr>\n",
       "    <tr>\n",
       "      <th>2905</th>\n",
       "      <td>EMPIRE STATE REALTY TR INC</td>\n",
       "      <td>ESRT</td>\n",
       "      <td>USA</td>\n",
       "      <td>2.0</td>\n",
       "      <td>Diversified REITs</td>\n",
       "      <td>BF321D7</td>\n",
       "      <td>US2921041065</td>\n",
       "    </tr>\n",
       "  </tbody>\n",
       "</table>\n",
       "</div>"
      ],
      "text/plain": [
       "                            Name Symbol Country  \\\n",
       "2901    REVANCE THERAPEUTICS INC   RVNC     USA   \n",
       "2902         WORKSPACE GROUP PLC    WKP     GBR   \n",
       "2903       SILK ROAD MEDICAL INC   SILK     USA   \n",
       "2904        CREDITO EMILIANO SPA   EMBI     ITA   \n",
       "2905  EMPIRE STATE REALTY TR INC   ESRT     USA   \n",
       "\n",
       "      Market Capitalization (bil) [USD] Industry Name - GICS Sub-Industry  \\\n",
       "2901                                2.0                   Pharmaceuticals   \n",
       "2902                                2.0                      Office REITs   \n",
       "2903                                2.0              Health Care Supplies   \n",
       "2904                                2.0                 Diversified Banks   \n",
       "2905                                2.0                 Diversified REITs   \n",
       "\n",
       "        SEDOL         ISINS  \n",
       "2901  BJFSR99  US7613301099  \n",
       "2902  B67G5X0  GB00B67G5X01  \n",
       "2903  BGHVXJ7  US82710M1009  \n",
       "2904  7135251  IT0003121677  \n",
       "2905  BF321D7  US2921041065  "
      ]
     },
     "execution_count": 110,
     "metadata": {},
     "output_type": "execute_result"
    }
   ],
   "source": [
    "universe_df.tail()"
   ]
  },
  {
   "cell_type": "code",
   "execution_count": 111,
   "metadata": {},
   "outputs": [
    {
     "name": "stdout",
     "output_type": "stream",
     "text": [
      "There are 2906 companies in our universe.\n"
     ]
    }
   ],
   "source": [
    "print(f\"There are {len(universe_df)} companies in our universe.\")"
   ]
  },
  {
   "cell_type": "code",
   "execution_count": 112,
   "metadata": {},
   "outputs": [],
   "source": [
    "sfdr_metrics = {\n",
    "    'TR.GICSSector': 'GIC_Sector',\n",
    "    'TR.NACEClassification': 'NACE_Sector',\n",
    "    'TR.CO2EmissionTotal': \"GHG Emissions\",\n",
    "    'TR.CO2DirectScope1': \"GHG Emissions\",\n",
    "    'TR.CO2IndirectScope2': \"GHG Emissions\",\n",
    "    'TR.CO2IndirectScope3': \"GHG Emissions\",\n",
    "  #  'carbon_footprint': \"GHG Emissions\",\n",
    "    'TR.AnalyticCO2': \"GHG Emissions\",\n",
    "   # 'TR.EnergyUseTotal':\"Energy Efficiency\",\n",
    "    'TR.AnalyticTotalRenewableEnergy':\"Energy Efficiency\", # il faut faire 1-ça\n",
    "    'TR.AnalyticEnergyUse':'Energy Efficiency', # globally and by NACE sector, GJ/M$\n",
    "    'TR.BiodiversityImpactReduction':\"Biodiversity\", # does the company monitor its impact\n",
    "    'TR.AnalyticDischargeWaterSystem':\"Water\", # ton emissions / $M\n",
    "    'TR.HazardousWaste': \"Waste\",\n",
    "    'TR.WasteTotal':'Waste', # to get non recycled waste\n",
    "    'TR.WasteRecycledTotal':'Waste', \n",
    "    'TR.ILOFundamentalHumanRights': 'Social and Employee Matters',\n",
    "    'TR.GenderPayGapPercentage':'Social and Employee Matters', # women to men\n",
    "    'TR.AnalyticSalaryGap':'Social and Employee Matters', # to average, should be median\n",
    "    'TR.AnalyticBoardFemale': 'Social and Employee Matters', \n",
    "    'TR.WhistleBlowerProtection': 'Social and Employee Matters',\n",
    "    'TR.AccidentsTotal': 'Social and Employee Matters', # proxy for accidents\n",
    "    'TR.AnalyticHumanRightsPolicy': 'Social and Employee Matters',\n",
    "    'TR.CriticalCountry1': 'Social and Employee Matters', # as a proxy for operations at risk of child or forced labour\n",
    "    'TR.CriticalCountry2': 'Social and Employee Matters', # as a proxy for operations at risk of child or forced labour\n",
    "    'TR.CriticalCountry3': 'Social and Employee Matters', # as a proxy for operations at risk of child or forced labour\n",
    "    'TR.CriticalCountry4': 'Social and Employee Matters', # as a proxy for operations at risk of child or forced labour\n",
    "    'TR.AntiPersonnelLandmines':'Social and Employee Matters', # anti personnel landmines\n",
    "    'TR.PolicyBriberyCorruption': 'Anti-corruption and Anti-bribery',\n",
    "    'TR.AnalyticBriberyFraudControv':'Anti-corruption and Anti-bribery',\n",
    "}"
   ]
  },
  {
   "cell_type": "markdown",
   "metadata": {},
   "source": [
    "We are missing data on:  \n",
    "- Biodiversity. Red List species / adjacent to sites. \n",
    "- Deforestation\n",
    "- Water stress, untreated discharged waste water\n",
    "- Due diligence on human rights, human trafficking  \n",
    "- Number of convictions for anti-corruption"
   ]
  },
  {
   "cell_type": "code",
   "execution_count": 113,
   "metadata": {},
   "outputs": [],
   "source": [
    "# fossil fuel sector exposure à faire avec les GICs\n",
    "# "
   ]
  },
  {
   "cell_type": "code",
   "execution_count": 114,
   "metadata": {},
   "outputs": [],
   "source": [
    "metrics = list(sfdr_metrics.keys())\n",
    "metrics.extend(['TR.TRESGScoreGrade',\n",
    "                'TR.EnvironmentPillarScoreGrade',\n",
    "                'TR.SocialPillarScoreGrade',\n",
    "                'TR.GovernancePillarScoreGrade',\n",
    "                'TR.AnalyticCO2ScoreGrade',\n",
    "                'TR.TRESGInnovationScoreGrade',\n",
    "                'TR.TRESGCSRStrategyScoreGrade',\n",
    "                'TR.TRESGScore',\n",
    "                'TR.EnvironmentPillarScore',\n",
    "                'TR.SocialPillarScore',\n",
    "                'TR.GovernancePillarScore',\n",
    "                'TR.AnalyticCO2Score',\n",
    "                'TR.TRESGInnovationScore',\n",
    "                'TR.TRESGCSRStrategyScore',])"
   ]
  },
  {
   "cell_type": "code",
   "execution_count": 123,
   "metadata": {},
   "outputs": [],
   "source": [
    "universe_df.ISINS = universe_df.ISINS.apply(str)"
   ]
  },
  {
   "cell_type": "code",
   "execution_count": 129,
   "metadata": {},
   "outputs": [
    {
     "data": {
      "text/plain": [
       "2906"
      ]
     },
     "execution_count": 129,
     "metadata": {},
     "output_type": "execute_result"
    }
   ],
   "source": [
    "isins = list(universe_df.ISINS)\n",
    "len(isins)"
   ]
  },
  {
   "cell_type": "code",
   "execution_count": 168,
   "metadata": {},
   "outputs": [],
   "source": [
    "esg_df, err = ek.get_data(instruments = isins, fields=metrics)"
   ]
  },
  {
   "cell_type": "code",
   "execution_count": 170,
   "metadata": {},
   "outputs": [],
   "source": [
    "universe_df.ISINS.value_counts()\n",
    "universe_df.ISINS = universe_df.ISINS.replace(\"nan\", \"NAN\")"
   ]
  },
  {
   "cell_type": "code",
   "execution_count": 173,
   "metadata": {},
   "outputs": [
    {
     "data": {
      "text/plain": [
       "842"
      ]
     },
     "execution_count": 173,
     "metadata": {},
     "output_type": "execute_result"
    }
   ],
   "source": [
    "(universe_df.ISINS == esg_df.Instrument[:2906]).sum()"
   ]
  },
  {
   "cell_type": "code",
   "execution_count": 178,
   "metadata": {},
   "outputs": [],
   "source": [
    "esg_df = esg_df.rename(columns={\"Instrument\":\"ISINS\"}).copy()"
   ]
  },
  {
   "cell_type": "code",
   "execution_count": 179,
   "metadata": {},
   "outputs": [],
   "source": [
    "#out = pd.merge(universe_df, esg_df, how=\"left\", left_on=\"Instrument\", right_on=\"Instrument\")\n",
    "out = pd.merge(universe_df, esg_df, how=\"left\", on=\"ISINS\",)# right_on=\"ISINS\")"
   ]
  },
  {
   "cell_type": "code",
   "execution_count": 192,
   "metadata": {},
   "outputs": [],
   "source": [
    "out = out.drop_duplicates(subset=[\"Name\"])"
   ]
  },
  {
   "cell_type": "code",
   "execution_count": 196,
   "metadata": {},
   "outputs": [
    {
     "data": {
      "text/plain": [
       "(2821, 46)"
      ]
     },
     "execution_count": 196,
     "metadata": {},
     "output_type": "execute_result"
    }
   ],
   "source": [
    "out.shape"
   ]
  },
  {
   "cell_type": "code",
   "execution_count": 195,
   "metadata": {},
   "outputs": [],
   "source": [
    "output_path = \"output/\"\n",
    "out.to_csv(output_path+\"universe_df_esg.csv\")"
   ]
  },
  {
   "cell_type": "code",
   "execution_count": null,
   "metadata": {},
   "outputs": [],
   "source": []
  }
 ],
 "metadata": {
  "kernelspec": {
   "display_name": "Python 3",
   "language": "python",
   "name": "python3"
  },
  "language_info": {
   "codemirror_mode": {
    "name": "ipython",
    "version": 3
   },
   "file_extension": ".py",
   "mimetype": "text/x-python",
   "name": "python",
   "nbconvert_exporter": "python",
   "pygments_lexer": "ipython3",
   "version": "3.7.4"
  },
  "widgets": {
   "application/vnd.jupyter.widget-state+json": {
    "state": {},
    "version_major": 2,
    "version_minor": 0
   }
  }
 },
 "nbformat": 4,
 "nbformat_minor": 4
}
